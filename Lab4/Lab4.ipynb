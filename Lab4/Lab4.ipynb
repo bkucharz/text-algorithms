{
 "cells": [
  {
   "cell_type": "markdown",
   "id": "67faa303",
   "metadata": {},
   "source": [
    "# Odległość edycyjna"
   ]
  },
  {
   "cell_type": "code",
   "execution_count": 1,
   "id": "a8f48d45",
   "metadata": {},
   "outputs": [],
   "source": [
    "import numpy as np\n",
    "from unidecode import unidecode\n",
    "from queue import PriorityQueue\n",
    "from enum import Enum\n",
    "from bisect import bisect\n",
    "from spacy.language import Language\n",
    "from spacy.tokenizer import Tokenizer\n",
    "from spacy.vocab import Vocab\n",
    "from random import sample"
   ]
  },
  {
   "cell_type": "code",
   "execution_count": 2,
   "id": "80ada161",
   "metadata": {},
   "outputs": [],
   "source": [
    "class Operation(Enum):\n",
    "    ADD = 1\n",
    "    DELETE = 2\n",
    "    SWAP = 3\n",
    "    NO_CHANGE = 4\n",
    "    \n",
    "    \n",
    "def delta(a , b):\n",
    "    if a == b: return 0\n",
    "    elif unidecode(a) == unidecode(b): return .5\n",
    "    else: return 1\n",
    "\n",
    "\n",
    "def edit_distance(x, y, delta):\n",
    "    n, m = len(x)+1, len(y)+1\n",
    "\n",
    "    queue = PriorityQueue()\n",
    "    operation = [[None for _ in range(m)] for _ in range(n)]\n",
    "    parent = [[None for _ in range(m)] for _ in range(n)]\n",
    "    distance = np.empty((n, m))\n",
    "    distance.fill(np.inf)\n",
    "\n",
    "    def relax(u, v, opr):\n",
    "        nonlocal queue, distance\n",
    "        w = 1\n",
    "        if opr == Operation.SWAP:\n",
    "            w = delta(x[v[0]-1], y[v[1]-1])\n",
    "            if w == 0:\n",
    "                opr = Operation.NO_CHANGE\n",
    "\n",
    "        if distance[v[0]][v[1]] > distance[u[0]][u[1]] + w:\n",
    "            distance[v[0]][v[1]] = distance[u[0]][u[1]] + w\n",
    "            parent[v[0]][v[1]] = u\n",
    "            operation[v[0]][v[1]] = opr\n",
    "            queue.put((distance[v[0]][v[1]], v))\n",
    "    \n",
    "    s, t = (0, 0), (n-1, m-1)\n",
    "\n",
    "    distance[s[0]][s[1]] = 0\n",
    "    queue.put((0, s))\n",
    "    while not queue.empty():\n",
    "        _, u = queue.get()\n",
    "        \n",
    "        if u == t:\n",
    "            break\n",
    "        i, j = u\n",
    "        \n",
    "        if i+1 < n:\n",
    "            relax(u, (i+1, j), Operation.DELETE)\n",
    "            \n",
    "        if j+1 < m:\n",
    "            relax(u, (i, j+1), Operation.ADD)\n",
    "            \n",
    "        if i+1 < n and j+1 < m:\n",
    "            relax(u, (i+1, j+1), Operation.SWAP)\n",
    "\n",
    "    u = t\n",
    "    seq = []\n",
    "    while u != s:\n",
    "        seq.insert(0, operation[u[0]][u[1]])\n",
    "        u = parent[u[0]][u[1]]\n",
    "    \n",
    "    return distance[-1, -1], seq\n",
    "  "
   ]
  },
  {
   "cell_type": "code",
   "execution_count": 3,
   "id": "3a903085",
   "metadata": {},
   "outputs": [],
   "source": [
    "def mark_letter(word, index):\n",
    "    return word[:index] + '*' + word[index] + '*' + word[index+1:]\n",
    "\n",
    "def swap_letter(word1, word2, i, j):\n",
    "    return word1[:i] + word2[j] + word1[i+1:]\n",
    "\n",
    "def add_letter(word1, word2, i, j):\n",
    "    return word1[:i] + word2[j] + word1[i:]\n",
    "\n",
    "def remove_letter(word1, i):\n",
    "    return word1[:i] + word1[i+1:]\n",
    "\n",
    "def visualize(sequance, x, y):\n",
    "    print(f'x = {x}')\n",
    "    print(f'y = {y}\\n')\n",
    "    cur_x = x\n",
    "    i = 0\n",
    "    j = 0\n",
    "    k = 1\n",
    "    for operation in sequance:\n",
    "        if operation == Operation.SWAP:\n",
    "            last_letter = cur_x[i]\n",
    "            cur_x = swap_letter(cur_x, y, i, j)\n",
    "            print(f'{k}. {mark_letter(cur_x, i)} (swap: {last_letter} -> {y[j]})')\n",
    "            i+=1\n",
    "            j+=1\n",
    "        elif operation == Operation.ADD:\n",
    "            cur_x = add_letter(cur_x, y, i, j)\n",
    "            print(f'{k}. {mark_letter(cur_x, i)} (add: {y[j]})')\n",
    "            i+=1\n",
    "            j+=1\n",
    "        elif operation == Operation.DELETE:\n",
    "            last_x = cur_x\n",
    "            cur_x = remove_letter(cur_x, i)\n",
    "            print(f'{k}. {mark_letter(last_x, i)} (remove: {last_x[i]})')\n",
    "        elif operation == Operation.NO_CHANGE:\n",
    "            i+=1\n",
    "            j+=1\n",
    "            k-=1\n",
    "        k+=1\n",
    "            \n",
    "    print(f'\\nResult: {cur_x}')\n",
    "            "
   ]
  },
  {
   "cell_type": "code",
   "execution_count": 4,
   "id": "58bbc0aa",
   "metadata": {
    "scrolled": true
   },
   "outputs": [
    {
     "name": "stdout",
     "output_type": "stream",
     "text": [
      "x = los\n",
      "y = kloc\n",
      "\n",
      "1. *k*los (add: k)\n",
      "2. klo*c* (swap: s -> c)\n",
      "\n",
      "Result: kloc\n",
      "Edit distance: 2.0\n",
      "\n"
     ]
    }
   ],
   "source": [
    "x, y = 'los', 'kloc'\n",
    "d, s = edit_distance(x, y, delta)\n",
    "visualize(s, x, y)\n",
    "print(f'Edit distance: {d}\\n')"
   ]
  },
  {
   "cell_type": "code",
   "execution_count": 5,
   "id": "e7003209",
   "metadata": {},
   "outputs": [
    {
     "name": "stdout",
     "output_type": "stream",
     "text": [
      "x = Łódź\n",
      "y = Lodz\n",
      "\n",
      "1. *L*ódź (swap: Ł -> L)\n",
      "2. L*o*dź (swap: ó -> o)\n",
      "3. Lod*z* (swap: ź -> z)\n",
      "\n",
      "Result: Lodz\n",
      "Edit distance: 1.5\n",
      "\n"
     ]
    }
   ],
   "source": [
    "x, y = 'Łódź', 'Lodz'\n",
    "d, s = edit_distance(x, y, delta)\n",
    "visualize(s, x, y)\n",
    "print(f'Edit distance: {d}\\n')"
   ]
  },
  {
   "cell_type": "code",
   "execution_count": 6,
   "id": "4619adf2",
   "metadata": {
    "scrolled": true
   },
   "outputs": [
    {
     "name": "stdout",
     "output_type": "stream",
     "text": [
      "x = kwintesencja\n",
      "y = quintessence\n",
      "\n",
      "1. *q*wintesencja (swap: k -> q)\n",
      "2. q*u*intesencja (swap: w -> u)\n",
      "3. quintes*s*encja (add: s)\n",
      "4. quintessenc*j*a (remove: j)\n",
      "5. quintessenc*e* (swap: a -> e)\n",
      "\n",
      "Result: quintessence\n",
      "Edit distance: 5.0\n",
      "\n"
     ]
    }
   ],
   "source": [
    "x, y = 'kwintesencja', 'quintessence'\n",
    "d, s = edit_distance(x, y, delta)\n",
    "visualize(s, x, y)\n",
    "print(f'Edit distance: {d}\\n')"
   ]
  },
  {
   "cell_type": "code",
   "execution_count": 7,
   "id": "b9fa05b4",
   "metadata": {},
   "outputs": [
    {
     "name": "stdout",
     "output_type": "stream",
     "text": [
      "x = ATGAATCTTACCGCCTCG\n",
      "y = ATGAGGCTCTGGCCCCTG\n",
      "\n",
      "1. ATGA*G*TCTTACCGCCTCG (swap: A -> G)\n",
      "2. ATGAG*G*CTTACCGCCTCG (swap: T -> G)\n",
      "3. ATGAGGCT*C*TACCGCCTCG (add: C)\n",
      "4. ATGAGGCTCT*G*CCGCCTCG (swap: A -> G)\n",
      "5. ATGAGGCTCTG*G*CGCCTCG (swap: C -> G)\n",
      "6. ATGAGGCTCTGGC*C*CCTCG (swap: G -> C)\n",
      "7. ATGAGGCTCTGGCCCCT*C*G (remove: C)\n",
      "\n",
      "Result: ATGAGGCTCTGGCCCCTG\n",
      "Edit distance: 7.0\n",
      "\n"
     ]
    }
   ],
   "source": [
    "x, y = 'ATGAATCTTACCGCCTCG', 'ATGAGGCTCTGGCCCCTG'\n",
    "d, s = edit_distance(x, y, delta)\n",
    "visualize(s, x, y)\n",
    "print(f'Edit distance: {d}\\n')"
   ]
  },
  {
   "cell_type": "markdown",
   "id": "728ffc7b",
   "metadata": {},
   "source": [
    "# Najdłuższy wspólny podciąg"
   ]
  },
  {
   "cell_type": "code",
   "execution_count": 8,
   "id": "ce5e39fe",
   "metadata": {},
   "outputs": [],
   "source": [
    "def delta2(x, y):\n",
    "    return 0 if x == y else 2\n",
    "\n",
    "def lcs1(x, y):\n",
    "    return (len(x) + len(y) - edit_distance(x, y, delta2)[0])/2\n",
    "\n",
    "def lcs2(x,y):\n",
    "    ranges = []\n",
    "    ranges.append(len(y)) \n",
    "    y_letters = list(y)\n",
    "    for i in range(len(x)):\n",
    "        positions = [j for j, l in enumerate(y_letters) if l == x[i]]\n",
    "        positions.reverse()\n",
    "        for p in positions:\n",
    "            k = bisect(ranges, p)\n",
    "            if(k == bisect(ranges, p-1)):\n",
    "                if(k < len(ranges) - 1):\n",
    "                    ranges[k] = p\n",
    "                else:\n",
    "                    ranges[k:k] = [p]\n",
    "    return len(ranges) - 1"
   ]
  },
  {
   "cell_type": "code",
   "execution_count": 9,
   "id": "60f89463",
   "metadata": {},
   "outputs": [],
   "source": [
    "def remove_random_tokens(tokens, percent):\n",
    "    n = len(tokens)\n",
    "    i_to_remove = sample(range(n), int(n*percent))\n",
    "    result = []\n",
    "    for i, token in enumerate(tokens):\n",
    "        if i in i_to_remove:\n",
    "            continue\n",
    "        result.append(token)\n",
    "    return result"
   ]
  },
  {
   "cell_type": "code",
   "execution_count": 27,
   "id": "d19c5b00",
   "metadata": {
    "scrolled": true
   },
   "outputs": [
    {
     "name": "stdout",
     "output_type": "stream",
     "text": [
      "Liczba tokenów oryginalnego tekstu: 2272\n",
      "Liczba tokenów skróconego tekstu: 2204\n",
      "\n",
      "Długość najdłuższego wspólnego podciągu tokenów skróconych tekstów: 2138\n"
     ]
    }
   ],
   "source": [
    "with open('romeo-i-julia-700.txt', 'r') as file:\n",
    "    text = file.read()\n",
    "    vocab = Language(Vocab()).vocab\n",
    "    tokenizer = Tokenizer(vocab)\n",
    "    tokens = tokenizer(text)\n",
    "    tokens_cut_1 = remove_random_tokens(tokens, 0.03)\n",
    "    tokens_cut_2 = remove_random_tokens(tokens, 0.03)\n",
    "    \n",
    "with open('text1.txt', 'w') as file:\n",
    "    for token in tokens_cut_1:\n",
    "        file.write(token.text_with_ws)\n",
    "        \n",
    "with open('text2.txt', 'w') as file:\n",
    "    for token in tokens_cut_2:\n",
    "        file.write(token.text_with_ws)\n",
    "    \n",
    "print(f'Liczba tokenów oryginalnego tekstu: {len(tokens)}')\n",
    "print(f'Liczba tokenów skróconego tekstu: {len(tokens_cut_1)}\\n')\n",
    "print(f'Długość najdłuższego wspólnego podciągu tokenów skróconych tekstów: {lcs2(tokens_cut_1, tokens_cut_2)}')\n",
    "  "
   ]
  },
  {
   "cell_type": "code",
   "execution_count": 28,
   "id": "e307b59b",
   "metadata": {},
   "outputs": [],
   "source": [
    "with open(\"text1.txt\", \"r\", encoding=\"utf-8\") as f:\n",
    "    text1 = f.read()\n",
    "\n",
    "with open(\"text2.txt\", \"r\", encoding=\"utf-8\") as f:\n",
    "    text2 = f.read()"
   ]
  },
  {
   "cell_type": "code",
   "execution_count": 29,
   "id": "949cb078",
   "metadata": {},
   "outputs": [],
   "source": [
    "def diff(x, y):\n",
    "    x, y = x.split('\\n'), y.split('\\n')\n",
    "     \n",
    "    d, sequance = edit_distance(x, y, delta)\n",
    "    i = 0\n",
    "    j = 0\n",
    "    for operation in sequance:\n",
    "        if operation == Operation.ADD:\n",
    "            print(f\"> ({j+1}) {y[j]}\")\n",
    "            j+=1\n",
    "        elif operation == Operation.DELETE:\n",
    "            print(f\"< ({i + 1}) {x[i]}\")\n",
    "            i+=1\n",
    "        elif operation == Operation.NO_CHANGE:\n",
    "            i+=1\n",
    "            j+=1"
   ]
  },
  {
   "cell_type": "code",
   "execution_count": 30,
   "id": "9d500a6d",
   "metadata": {
    "scrolled": false
   },
   "outputs": [
    {
     "name": "stdout",
     "output_type": "stream",
     "text": [
      "< (10) OSOBY:\n",
      "< (11)  * ESKALUS — książę panujący w Weronie\n",
      "> (44) Dwa rody, zacne jednako i sławne —\n",
      "> (45) Tam, gdzie się rzecz ta rozgrywa, w \n",
      "> (153) / Wchodzą Abraham i Baltazar. /\n",
      "> (154) \n",
      "> (155) \n",
      "> (156) SAMSON\n",
      "> (157) \n",
      "< (212) \n",
      "< (214) \n",
      "< (221) \n",
      "< (222) Zaczepki waść szukasz?\n",
      "< (223) \n",
      "< (274) \n",
      "< (276) \n",
      "< (277) \n",
      "< (278) TYBALT\n",
      "> (282) \n",
      "> (283) \n",
      "> (298) \n",
      "< (310) Co za hałas? Podajcie mi długi\n",
      "> (325) Ha! nędzny Kapulecie!\n",
      "> (390) \n",
      "> (392) PANI MONTEKI\n",
      "> (448) MONTEKI\n",
      "> (450) Wybadywałem i sam, i przez drugich,\n",
      "> (452) im jest wierny, tak zamknięty w sobie,\n",
      "> (465) Oto nadchodzi. Odstąpcie na stronę;\n",
      "< (482) \n",
      "< (483)                         Jeszcze–ż nie południe?\n",
      "< (486) BENWOLIO\n",
      "< (487) \n",
      "< (491) ROMEO\n",
      "< (493)                         Jak nudnie\n",
      "> (501) Tak jest. Lecz cóż tak chwile twoje dłuży?\n",
      "> (505) \n",
      "> (507) \n",
      "< (534) Miłość na oślep zawsze cel swój goni!\n",
      "< (535) Gdzież dziś jeść będziem? Ach! Był tu podobno\n",
      "< (536) Jakiś spór? Nie mów mi o nim, wiem wszystko.\n",
      "< (574) Morze łez, w którym nieszczęśliwy tonie.\n",
      "< (575) jest więcej? Istnym amalgamem,\n"
     ]
    }
   ],
   "source": [
    "diff(text1, text2)"
   ]
  },
  {
   "cell_type": "code",
   "execution_count": null,
   "id": "7783a5af",
   "metadata": {},
   "outputs": [],
   "source": []
  }
 ],
 "metadata": {
  "kernelspec": {
   "display_name": "Python 3 (ipykernel)",
   "language": "python",
   "name": "python3"
  },
  "language_info": {
   "codemirror_mode": {
    "name": "ipython",
    "version": 3
   },
   "file_extension": ".py",
   "mimetype": "text/x-python",
   "name": "python",
   "nbconvert_exporter": "python",
   "pygments_lexer": "ipython3",
   "version": "3.9.7"
  }
 },
 "nbformat": 4,
 "nbformat_minor": 5
}
