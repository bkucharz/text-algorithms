{
 "cells": [
  {
   "cell_type": "markdown",
   "id": "7fe74063",
   "metadata": {},
   "source": [
    "# Algorytmy wyszukiwania wzorców"
   ]
  },
  {
   "cell_type": "code",
   "execution_count": 271,
   "id": "4c8bc38a",
   "metadata": {},
   "outputs": [],
   "source": [
    "import matplotlib.pyplot as plt\n",
    "from time import time\n",
    "from tabulate import tabulate"
   ]
  },
  {
   "cell_type": "markdown",
   "id": "19578e9a",
   "metadata": {},
   "source": [
    "## Algorytm naiwny"
   ]
  },
  {
   "cell_type": "code",
   "execution_count": 264,
   "id": "a9afb8a0",
   "metadata": {},
   "outputs": [],
   "source": [
    "def naive_string_matching(text, pattern):\n",
    "    pattern_len = len(pattern)\n",
    "    result = []\n",
    "    for i in range(len(text) - pattern_len + 1):\n",
    "        if text[i:i+pattern_len] == pattern:\n",
    "            result.append(i)\n",
    "    return(result)"
   ]
  },
  {
   "cell_type": "markdown",
   "id": "36fc7db4",
   "metadata": {},
   "source": [
    "## Algorytm automatu skończonego"
   ]
  },
  {
   "cell_type": "code",
   "execution_count": null,
   "id": "d0a20dec",
   "metadata": {},
   "outputs": [],
   "source": [
    "def transition_table(pattern):\n",
    "    result = []\n",
    "    for q in range(0, len(pattern) + 1):\n",
    "        result.append({})\n",
    "        for a in list(set(pattern)):\n",
    "            k = min(len(pattern) + 1, q + 2)\n",
    "            while True:\n",
    "                k = k - 1\n",
    "\n",
    "                if(k == 0 or pattern[:k] == (pattern[:q] + a)[-k:]):\n",
    "                    break\n",
    "            result[q][a] = k\n",
    "    return result\n",
    "\n",
    "\n",
    "def fa_string_matching(text, delta):\n",
    "    result = []\n",
    "    q = 0\n",
    "    length = len(delta) - 1\n",
    "    for i in range(0, len(text)):\n",
    "        q = delta[q].get(text[i], 0)\n",
    "        if(q == length):\n",
    "            result.append(i + 1 - q)\n",
    "    return result"
   ]
  },
  {
   "cell_type": "markdown",
   "id": "9703c499",
   "metadata": {},
   "source": [
    "## Algorytm Knutha-Morrisa-Pratta"
   ]
  },
  {
   "cell_type": "code",
   "execution_count": null,
   "id": "d9e75910",
   "metadata": {},
   "outputs": [],
   "source": [
    "def prefix_function(pattern):\n",
    "    pi = [0]\n",
    "    k = 0\n",
    "    for q in range(1, len(pattern)):\n",
    "        while(k > 0 and pattern[k] != pattern[q]):\n",
    "            k = pi[k-1]\n",
    "        if(pattern[k] == pattern[q]):\n",
    "            k = k + 1\n",
    "        pi.append(k)\n",
    "    return pi\n",
    "\n",
    "\n",
    "def kmp_string_matching(text, pattern,  pi):\n",
    "    result = []\n",
    "    q = 0\n",
    "    for i in range(0, len(text)):\n",
    "        while(q > 0 and pattern[q] != text[i]):\n",
    "            q = pi[q-1]\n",
    "        if(pattern[q] == text[i]):\n",
    "            q = q + 1\n",
    "        if(q == len(pattern)):\n",
    "            result.append(i+1-q)\n",
    "            q = pi[q-1]\n",
    "    return result"
   ]
  },
  {
   "cell_type": "code",
   "execution_count": 397,
   "id": "724090c6",
   "metadata": {},
   "outputs": [],
   "source": [
    "# Funkcja zwracająca czasy wykonania poszczególnych algorytmów\n",
    "#(czas pre-processingu)\n",
    "def test(text, pattern):\n",
    "    start = time()\n",
    "    naive_string_matching(text, pattern)\n",
    "    naive_time = time() - start\n",
    "    \n",
    "    delta = transition_table(pattern)\n",
    "    start = time()\n",
    "    fa_string_matching(text, delta)\n",
    "    fa_time = time() - start\n",
    "    \n",
    "    pi = prefix_function(pattern)\n",
    "    start = time()\n",
    "    kmp_string_matching(text, pattern, pi)\n",
    "    kmp_time = time() - start\n",
    "    \n",
    "    \n",
    "    return naive_time, fa_time, kmp_time"
   ]
  },
  {
   "cell_type": "markdown",
   "id": "91d6e6aa",
   "metadata": {},
   "source": [
    "## Znajdowanie wzorca \"art\" w danej ustawie"
   ]
  },
  {
   "cell_type": "code",
   "execution_count": 423,
   "id": "5c3edffb",
   "metadata": {
    "scrolled": true
   },
   "outputs": [
    {
     "name": "stdout",
     "output_type": "stream",
     "text": [
      "Algorithm          Time [s]\n",
      "---------------  ----------\n",
      "Naive             0.0667269\n",
      "Finite Automata   0.0344884\n",
      "KMP               0.0435891\n"
     ]
    }
   ],
   "source": [
    "with open(\"1997_714.txt\", \"r\") as file:\n",
    "    text = file.read()\n",
    "    test_results = test(text, \"art\")\n",
    "    print(tabulate({\"Algorithm\" : [\"Naive\", \"Finite Automata\", \"KMP\"],\n",
    "                \"Time [s]\" : test_results}, headers=\"keys\"))"
   ]
  },
  {
   "cell_type": "markdown",
   "id": "7e24ece7",
   "metadata": {},
   "source": [
    "## Znajdowanie wzorca \"Ukraina\" we fragmencie wikipedi"
   ]
  },
  {
   "cell_type": "code",
   "execution_count": 421,
   "id": "45c9b67d",
   "metadata": {},
   "outputs": [
    {
     "name": "stdout",
     "output_type": "stream",
     "text": [
      "Algorithm          Time [s]\n",
      "---------------  ----------\n",
      "Naive               16.69\n",
      "Finite Automata     14.7412\n",
      "KMP                 15.0942\n"
     ]
    }
   ],
   "source": [
    "with open(\"passages-head.tsv\", \"r\") as file:\n",
    "    text = file.read()\n",
    "    test_results = test(text, \"Ukraina\")\n",
    "    print(tabulate({\"Algorithm\" : [\"Naive\", \"Finite Automata\", \"KMP\"],\n",
    "                \"Time [s]\" : test_results}, headers=\"keys\"))"
   ]
  },
  {
   "cell_type": "markdown",
   "id": "99ffc22c",
   "metadata": {},
   "source": [
    "## Przypadek dla którego czasy działania algorytmów 2. i 3. są 5-krotnie krótsze od algorytmu naiwnego"
   ]
  },
  {
   "cell_type": "code",
   "execution_count": 417,
   "id": "f4ee5baf",
   "metadata": {},
   "outputs": [
    {
     "name": "stdout",
     "output_type": "stream",
     "text": [
      "Algorithm          Time [s]\n",
      "---------------  ----------\n",
      "Naive            0.00714231\n",
      "Finite Automata  0.00165939\n",
      "KMP              0.00352836\n"
     ]
    }
   ],
   "source": [
    "text = \"aaaaaaaaa\"*1000+'b'\n",
    "test_results = test(text, \"aaaaaaaaa\"*200+'b')\n",
    "print(tabulate({\"Algorithm\" : [\"Naive\", \"Finite Automata\", \"KMP\"],\n",
    "                \"Time [s]\" : test_results}, headers=\"keys\"))"
   ]
  },
  {
   "cell_type": "markdown",
   "id": "9c0266c6",
   "metadata": {},
   "source": [
    "## Przypadek dla którego czas obliczenia tablicy przejścia automatu skończonego jest 5-krotnie dłuższy od czasu utworzenia funkcji przejścia w algorytmie KMP"
   ]
  },
  {
   "cell_type": "code",
   "execution_count": 420,
   "id": "612f39a7",
   "metadata": {},
   "outputs": [
    {
     "name": "stdout",
     "output_type": "stream",
     "text": [
      "Name                 Time [s]\n",
      "----------------  -----------\n",
      "Transition table  0.0171127\n",
      "Prefix function   0.000234604\n"
     ]
    }
   ],
   "source": [
    "pattern = \"qwertyuiopasdfghjklzxcvbnm\"\n",
    "start = time()\n",
    "transition_table(pattern)\n",
    "transition_time = time() - start\n",
    "\n",
    "start = time()\n",
    "prefix_function(pattern)\n",
    "prefix_time = time() - start\n",
    "\n",
    "print(tabulate({\"Name\" : [\"Transition table\", \"Prefix function\"],\n",
    "                \"Time [s]\" : [transition_time, prefix_time]}, headers=\"keys\"))"
   ]
  },
  {
   "cell_type": "code",
   "execution_count": null,
   "id": "1dd65c43",
   "metadata": {},
   "outputs": [],
   "source": []
  }
 ],
 "metadata": {
  "kernelspec": {
   "display_name": "Python 3 (ipykernel)",
   "language": "python",
   "name": "python3"
  },
  "language_info": {
   "codemirror_mode": {
    "name": "ipython",
    "version": 3
   },
   "file_extension": ".py",
   "mimetype": "text/x-python",
   "name": "python",
   "nbconvert_exporter": "python",
   "pygments_lexer": "ipython3",
   "version": "3.9.7"
  }
 },
 "nbformat": 4,
 "nbformat_minor": 5
}
